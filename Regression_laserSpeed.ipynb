{
  "nbformat": 4,
  "nbformat_minor": 0,
  "metadata": {
    "colab": {
      "name": "Regression_laserSpeed.ipynb",
      "provenance": [],
      "collapsed_sections": [],
      "authorship_tag": "ABX9TyNq6eezdiKaB/JxQwFm0OHh",
      "include_colab_link": true
    },
    "kernelspec": {
      "name": "python3",
      "display_name": "Python 3"
    },
    "language_info": {
      "name": "python"
    }
  },
  "cells": [
    {
      "cell_type": "markdown",
      "metadata": {
        "id": "view-in-github",
        "colab_type": "text"
      },
      "source": [
        "<a href=\"https://colab.research.google.com/github/AnastTF/Regression_laser_Speed/blob/main/Regression_laserSpeed.ipynb\" target=\"_parent\"><img src=\"https://colab.research.google.com/assets/colab-badge.svg\" alt=\"Open In Colab\"/></a>"
      ]
    },
    {
      "cell_type": "code",
      "metadata": {
        "id": "NWVLlfpHj0vg"
      },
      "source": [
        "#импортируем библиотеки pandas, numpy и matplotlib\n",
        "import pandas as pd\n",
        "import numpy as np\n",
        "import matplotlib.pyplot as plt\n",
        "\n",
        "data = pd.read_excel(\"/content/Зависимости для АМг3М 1мм_1.xls\")#открытие файла с названием \"Зависимости для АМг3М 1мм_1.xls\" и импортируем данные из этого файла \n",
        "#print(data.shape)#количество колонок и столбцов таблицы\n",
        "#print(data.head())#выводит первые 5 строк таблицы\n",
        "\n",
        "#подготовка данных\n",
        "#извлекаем данные\n",
        "x=data.iloc[:,:-1].values#столбец количество кадров\n",
        "y=data.iloc[:,1].values#столбец значений рабочей скорости режущего инструмента для соответствующего значения количества кадров\n",
        "\n",
        "#вычислим коэффициент корреляции\n",
        "coeffKorr=data['Количество кадров'].corr(data['Значение рабочей скорости, м/с'])\n",
        "\n",
        "#разделяем данные на тестовые и обучающие\n",
        "from sklearn.model_selection import train_test_split\n",
        "x_train,x_test,y_train,y_test=train_test_split(x,y,test_size=0.4,random_state=0)#разбиваем данные на 80% - обучающие, 20% - тестовые\n",
        "\n",
        "#'обучаем' алгоритм с использованием метода наименьших квадратов - МНК\n",
        "from sklearn.linear_model import LinearRegression\n",
        "model=LinearRegression()#вычисляем оптимальные значения весов\n",
        "z=model.fit(np.log(x_train),y_train)\n",
        "b = z.intercept_#значение коэффициента b аппроксимирующей функции y=a*ln(x)+b\n",
        "a = z.coef_#значение коэффициента a аппроксимирующей функции y=a*ln(x)+b\n",
        "# Для сравнения качества делаем прогноз и на тех данных, на которых обучались\n",
        "z_train = model.predict(np.log(x_train))\n",
        "z_test = model.predict(np.log(x_test))\n",
        "#делаем прогнозы по модели по тестовым данным\n",
        "y_pred=model.predict(np.log(x_test))\n",
        "#сравниваем фактические выходные значения для x_test с прогнозируемыми значениями\n",
        "df=pd.DataFrame({'Actual':y_test,'Predicted': y_pred})\n",
        "\n",
        "#оценка алгоритма\n",
        "from sklearn import metrics\n",
        "#найдем коэффициент детерминации\n",
        "r_sq=model.score(np.log(x_train),y_train)\n",
        "#найдем значение средней абсолютной ошибки-MAE(Mean Abcolute Error)\n",
        "m_a_e=metrics.mean_absolute_error(y_test,y_pred)\n",
        "#найдем значение средней квадратической ошибки - MSE (Mean Squared Error)\n",
        "m_s_e=metrics.mean_squared_error(y_test,y_pred)\n",
        "#найдем значение среднеквадратичной ошибки - RMSE (Root Mean Squared Error)\n",
        "r_m_s_e=np.sqrt(metrics.mean_squared_error(y_test,y_pred))\n",
        "\n",
        "#значения для построения регрессирующей функции на графике\n",
        "x_pr=[]\n",
        "for row in x_train:\n",
        "    for i in row:\n",
        "        x_pr.append(i)\n",
        "x_pr.sort()\n",
        "x_pr=np.array(x_pr).reshape((-1,1))#переводим в двумерный массив\n",
        "z_pr = model.predict(np.log(x_pr))\n",
        "\n",
        "lab=str(round((*z.coef_),3))+' *ln(x)+ '+str(round(z.intercept_,3))\n",
        "#ВИЗУАЛИЗАЦИЯ РЕЗУЛЬТАТОВ на графике с использованием библиотеки matplotlib    \n",
        "plt.plot(x_train, y_train,color='green',marker='o',ls='')#marker-маркер точек, ls - стиль линии\n",
        "plt.plot(x_test, y_test,color='blue',marker='v',ls='')\n",
        "plt.plot(x_pr, z_pr,color='red',label=lab)\n",
        "plt.title(\"Зависимость скорости режущего инструмента\"+\"\\n\"+\"на рабочем ходе от числа кадров для АМг3М, 1мм\")#ВВЕДИТЕ название в соответствии с вашими данными\n",
        "plt.xlabel(\"Количество кадров УП\")\n",
        "plt.ylabel(\"Von(факт),м/с\")\n",
        "plt.grid()\n",
        "plt.legend()\n",
        "\n",
        "#Выводим результаты\n",
        "   \n",
        "print('='*20)\n",
        "print(\"coeffKorr:\"+' '*(len('Коэффициент детерминации:')-5)+'|',coeffKorr)\n",
        "print('Коэффициент детерминации:'+' '*5+'|',r_sq)\n",
        "print('Mean Abcolute Error:'+' '*10+'|',m_a_e)\n",
        "print('Mean Squared Error:'+' '*11+'|',m_s_e)\n",
        "print('Root Mean Squared Error:'+' '*6+'|',r_m_s_e)\n",
        "print('='*20)\n",
        "print('Сравнение фактических выходных значений \\nдля тестовых данных с прогнозируемыми значениями: ')\n",
        "print(df)\n",
        "print('='*20)\n"
      ],
      "execution_count": null,
      "outputs": []
    },
    {
      "cell_type": "markdown",
      "metadata": {
        "id": "VmIqhA1AkOAu"
      },
      "source": [
        "# Новый раздел"
      ]
    }
  ]
}
